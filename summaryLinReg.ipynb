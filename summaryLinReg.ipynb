{
 "cells": [
  {
   "cell_type": "markdown",
   "metadata": {},
   "source": [
    "# House Pricing Data Set: Machine Learning Examples\n",
    "\n",
    "This is the summary of an example of various machine learnng techniques applied to the problem of house price prediction.\n",
    "\n",
    "Dataset is from kaggle: https://www.kaggle.com/datasets/bharatsahu/house-price-prediction-dataset-insurancehub-usa\n",
    "\n",
    "Guillaume Häfner"
   ]
  },
  {
   "cell_type": "code",
   "execution_count": 11,
   "metadata": {},
   "outputs": [],
   "source": [
    "import pandas as pd\n",
    "from sklearn.model_selection import train_test_split as TTS\n",
    "from sklearn.linear_model import LinearRegression as LR\n",
    "from sklearn.metrics import root_mean_squared_error as MSE\n",
    "\n",
    "%matplotlib inline"
   ]
  },
  {
   "cell_type": "code",
   "execution_count": 4,
   "metadata": {},
   "outputs": [
    {
     "name": "stdout",
     "output_type": "stream",
     "text": [
      "Shape of df before handling of missing data:  (2919, 81)\n",
      "Shape of df after handling of missing data:  (2883, 81)\n",
      "Index(['Id', 'MSSubClass', 'MSZoning', 'LotFrontage', 'LotArea', 'Street',\n",
      "       'Alley', 'LotShape', 'LandContour', 'Utilities', 'LotConfig',\n",
      "       'LandSlope', 'Neighborhood', 'Condition1', 'Condition2', 'BldgType',\n",
      "       'HouseStyle', 'OverallQual', 'OverallCond', 'YearBuilt', 'YearRemodAdd',\n",
      "       'RoofStyle', 'RoofMatl', 'Exterior1st', 'Exterior2nd', 'MasVnrType',\n",
      "       'MasVnrArea', 'ExterQual', 'ExterCond', 'Foundation', 'BsmtQual',\n",
      "       'BsmtCond', 'BsmtExposure', 'BsmtFinType1', 'BsmtFinSF1',\n",
      "       'BsmtFinType2', 'BsmtFinSF2', 'BsmtUnfSF', 'TotalBsmtSF', 'Heating',\n",
      "       'HeatingQC', 'CentralAir', 'Electrical', '1stFlrSF', '2ndFlrSF',\n",
      "       'LowQualFinSF', 'GrLivArea', 'BsmtFullBath', 'BsmtHalfBath', 'FullBath',\n",
      "       'HalfBath', 'BedroomAbvGr', 'KitchenAbvGr', 'KitchenQual',\n",
      "       'TotRmsAbvGrd', 'Functional', 'Fireplaces', 'FireplaceQu', 'GarageType',\n",
      "       'GarageYrBlt', 'GarageFinish', 'GarageCars', 'GarageArea', 'GarageQual',\n",
      "       'GarageCond', 'PavedDrive', 'WoodDeckSF', 'OpenPorchSF',\n",
      "       'EnclosedPorch', '3SsnPorch', 'ScreenPorch', 'PoolArea', 'PoolQC',\n",
      "       'Fence', 'MiscFeature', 'MiscVal', 'MoSold', 'YrSold', 'SaleType',\n",
      "       'SaleCondition', 'SalePrice'],\n",
      "      dtype='object')\n"
     ]
    }
   ],
   "source": [
    "# Load the data\n",
    "df = pd.read_csv(\"data/housing_train.csv\")\n",
    "\n",
    "\n",
    "## Handling of missing values\n",
    "print(\"Shape of df before handling of missing data: \", df.shape)\n",
    "df_NA = (df.isna().mean() * 100)\n",
    "\n",
    "df.dropna(subset=df_NA[df_NA < 1].index.tolist(), inplace=True)\n",
    "\n",
    "# Impute missing values with mean for columns with missing values higher than 1% and numeric type\n",
    "for column in df_NA[df_NA >= 1].index:\n",
    "    if pd.api.types.is_numeric_dtype(df[column]):\n",
    "        df[column] = df[column].fillna(df[column].mean())\n",
    "\n",
    "print(\"Shape of df after handling of missing data: \", df.shape)\n",
    "print(df.columns)\n",
    "\n"
   ]
  },
  {
   "cell_type": "markdown",
   "metadata": {},
   "source": [
    "## Linear Regression Models\n",
    "\n",
    "In this analysis, we compare the performance of two linear regression models trained on the dataset. The goal is to predict the `SalePrice` of houses based on different sets of features.\n",
    "\n",
    "### Feature Sets\n",
    "\n",
    "1. **LotArea Only Model**:\n",
    "   - This model utilizes only the `LotArea` column as the predictor variable.\n",
    "   \n",
    "2. **All Columns Model**:\n",
    "   - This model uses all columns except `SalePrice` as predictor variables.\n",
    "\n",
    "3. **Only significant columns**:\n",
    "   - This model calculates correlation coefficients and only uses the ones above a given threshold.\n",
    "\n",
    "### Evaluation Metric\n",
    "\n",
    "We evaluate the performance of each model using mean squared error (MSE) on the testing set. Lower MSE values indicate better performance in predicting house prices.\n"
   ]
  },
  {
   "cell_type": "code",
   "execution_count": 8,
   "metadata": {},
   "outputs": [],
   "source": [
    "TARGET_VAR = 'SalePrice'\n",
    "def run_LR(feature_columns, df=df):\n",
    "    \n",
    "    df = pd.get_dummies(df)\n",
    "    X = df[feature_columns]\n",
    "    y = df[TARGET_VAR]\n",
    "\n",
    "    X_train, X_test, y_train, y_test = TTS(X,y,test_size=0.2, random_state=42)\n",
    "    model = LR()\n",
    "    model.fit(X_train,y_train)\n",
    "    y_pred = model.predict(X_test)\n",
    "    mse = MSE(y_test,y_pred)\n",
    "\n",
    "    print(f\"Root mean squared error: {mse:.2f}.\")"
   ]
  },
  {
   "cell_type": "code",
   "execution_count": 13,
   "metadata": {},
   "outputs": [
    {
     "name": "stdout",
     "output_type": "stream",
     "text": [
      "Only Area as feature column.\n",
      "Root mean squared error: 50690.91.\n",
      "All columns.\n",
      "Root mean squared error: 41351.77.\n",
      "Mean Squared Error (LotArea only): 50690.91278595372\n",
      "Mean Squared Error (All columns): 41351.76594087202\n"
     ]
    }
   ],
   "source": [
    "print(\"Only Area as feature column.\")\n",
    "run_LR(feature_columns=['LotArea'])\n",
    "\n",
    "print(\"All columns.\")\n",
    "run_LR(feature_columns=[cols for cols in df.columns if cols != TARGET_VAR])"
   ]
  },
  {
   "cell_type": "markdown",
   "metadata": {},
   "source": [
    "# Feature engineering\n",
    "\n",
    "Clearly, the mean squared errors (MSE) are pretty high for the linear regression model. So, let's figure out what features are most significant and try to improve the model."
   ]
  },
  {
   "cell_type": "code",
   "execution_count": 6,
   "metadata": {},
   "outputs": [
    {
     "name": "stdout",
     "output_type": "stream",
     "text": [
      "The Significant features are:\n",
      "OverallQual (r = 0.55)\n",
      "GrLivArea (r = 0.52)\n"
     ]
    }
   ],
   "source": [
    "COR_THRESHOLD = 0.5\n",
    "\n",
    "feature_correlation = df.corr()['SalePrice'].sort_values(ascending=False)\n",
    "significant_features = feature_correlation[(abs(feature_correlation) > COR_THRESHOLD) & (feature_correlation.index != 'SalePrice')].index.tolist()\n",
    "\n",
    "print(\"The Significant features are:\")\n",
    "for feature in significant_features:\n",
    "    print(f\"{feature} (r = {feature_correlation[feature]:.2f})\")"
   ]
  },
  {
   "cell_type": "code",
   "execution_count": 15,
   "metadata": {},
   "outputs": [
    {
     "name": "stdout",
     "output_type": "stream",
     "text": [
      "Only significant feature columns.\n",
      "Root mean squared error: 41639.07.\n"
     ]
    }
   ],
   "source": [
    "print(\"Only significant feature columns.\")\n",
    "run_LR(significant_features)"
   ]
  }
 ],
 "metadata": {
  "kernelspec": {
   "display_name": ".venv",
   "language": "python",
   "name": "python3"
  },
  "language_info": {
   "codemirror_mode": {
    "name": "ipython",
    "version": 3
   },
   "file_extension": ".py",
   "mimetype": "text/x-python",
   "name": "python",
   "nbconvert_exporter": "python",
   "pygments_lexer": "ipython3",
   "version": "3.11.1"
  }
 },
 "nbformat": 4,
 "nbformat_minor": 2
}
