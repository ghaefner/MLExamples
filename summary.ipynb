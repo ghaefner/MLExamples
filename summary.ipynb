{
 "cells": [
  {
   "cell_type": "markdown",
   "metadata": {},
   "source": [
    "# House Pricing Data Set: Machine Learning Examples\n",
    "\n",
    "This is the summary of an example of various machine learnng techniques applied to the problem of house price prediction.\n",
    "\n",
    "Dataset is from kaggle: https://www.kaggle.com/datasets/bharatsahu/house-price-prediction-dataset-insurancehub-usa\n",
    "\n",
    "Guillaume Häfner"
   ]
  },
  {
   "cell_type": "code",
   "execution_count": 2,
   "metadata": {},
   "outputs": [],
   "source": [
    "import pandas as pd\n",
    "from sklearn.model_selection import train_test_split as TTS\n",
    "from sklearn.linear_model import LinearRegression as LR\n",
    "from sklearn.metrics import mean_squared_error as MSE"
   ]
  },
  {
   "cell_type": "code",
   "execution_count": 3,
   "metadata": {},
   "outputs": [
    {
     "name": "stdout",
     "output_type": "stream",
     "text": [
      "Shape of df before handling of missing data:  (1460, 81)\n",
      "Shape of df after handling of missing data:  (1451, 81)\n",
      "Index(['Id', 'MSSubClass', 'MSZoning', 'LotFrontage', 'LotArea', 'Street',\n",
      "       'Alley', 'LotShape', 'LandContour', 'Utilities', 'LotConfig',\n",
      "       'LandSlope', 'Neighborhood', 'Condition1', 'Condition2', 'BldgType',\n",
      "       'HouseStyle', 'OverallQual', 'OverallCond', 'YearBuilt', 'YearRemodAdd',\n",
      "       'RoofStyle', 'RoofMatl', 'Exterior1st', 'Exterior2nd', 'MasVnrType',\n",
      "       'MasVnrArea', 'ExterQual', 'ExterCond', 'Foundation', 'BsmtQual',\n",
      "       'BsmtCond', 'BsmtExposure', 'BsmtFinType1', 'BsmtFinSF1',\n",
      "       'BsmtFinType2', 'BsmtFinSF2', 'BsmtUnfSF', 'TotalBsmtSF', 'Heating',\n",
      "       'HeatingQC', 'CentralAir', 'Electrical', '1stFlrSF', '2ndFlrSF',\n",
      "       'LowQualFinSF', 'GrLivArea', 'BsmtFullBath', 'BsmtHalfBath', 'FullBath',\n",
      "       'HalfBath', 'BedroomAbvGr', 'KitchenAbvGr', 'KitchenQual',\n",
      "       'TotRmsAbvGrd', 'Functional', 'Fireplaces', 'FireplaceQu', 'GarageType',\n",
      "       'GarageYrBlt', 'GarageFinish', 'GarageCars', 'GarageArea', 'GarageQual',\n",
      "       'GarageCond', 'PavedDrive', 'WoodDeckSF', 'OpenPorchSF',\n",
      "       'EnclosedPorch', '3SsnPorch', 'ScreenPorch', 'PoolArea', 'PoolQC',\n",
      "       'Fence', 'MiscFeature', 'MiscVal', 'MoSold', 'YrSold', 'SaleType',\n",
      "       'SaleCondition', 'SalePrice'],\n",
      "      dtype='object')\n"
     ]
    }
   ],
   "source": [
    "# Load the data\n",
    "df = pd.read_csv(\"data/train.csv\")\n",
    "print(\"Shape of df before handling of missing data: \", df.shape)\n",
    "\n",
    "## Handling of missing values\n",
    "df_NA = (df.isna().mean() * 100)\n",
    "\n",
    "# Drop rows where missing values are less than 1%\n",
    "df.dropna(subset=df_NA[df_NA < 1].index.tolist(), inplace=True)\n",
    "\n",
    "# Impute missing values with mean for columns with missing values higher than 1% and numeric type\n",
    "for column in df_NA[df_NA >= 1].index:\n",
    "    if pd.api.types.is_numeric_dtype(df[column]):\n",
    "        df[column] = df[column].fillna(df[column].mean())\n",
    "\n",
    "print(\"Shape of df after handling of missing data: \", df.shape)\n",
    "print(df.columns)\n",
    "\n"
   ]
  },
  {
   "cell_type": "markdown",
   "metadata": {},
   "source": [
    "We will start with the simple linear regression. Linear regression is used "
   ]
  },
  {
   "cell_type": "code",
   "execution_count": 4,
   "metadata": {},
   "outputs": [
    {
     "name": "stdout",
     "output_type": "stream",
     "text": [
      "Mean Squared Error (LotArea only): 5074667187.426045\n",
      "Mean Squared Error (All other columns): 809285788.9023495\n"
     ]
    }
   ],
   "source": [
    "\n",
    "X_area = df[['LotArea']] # Feature Set 1\n",
    "X_all = df.drop(columns=['SalePrice']) # Feature Set 2\n",
    "y = df['SalePrice']\n",
    "\n",
    "# Apply one-hot encoding to categorical variables\n",
    "X_all = pd.get_dummies(X_all)\n",
    "\n",
    "# Split data\n",
    "X_train_area, X_test_area, y_train_area, y_test_area = TTS(X_area, y, test_size=0.2, random_state=42)\n",
    "X_train_all, X_test_all, y_train_all, y_test_all = TTS(X_all, y, test_size=0.2, random_state=42)\n",
    "\n",
    "# Train model\n",
    "model_area = LR()\n",
    "model_all = LR()\n",
    "\n",
    "model_area.fit(X_train_area, y_train_area)\n",
    "model_all.fit(X_train_all, y_train_all)\n",
    "\n",
    "# Evaluate model prediction\n",
    "y_pred_area = model_area.predict(X_test_area)\n",
    "y_pred_all = model_all.predict(X_test_all)\n",
    "\n",
    "# Evaluate the models\n",
    "mse_area = MSE(y_test_area, y_pred_area)\n",
    "mse_all = MSE(y_test_all, y_pred_all)\n",
    "\n",
    "print(\"Mean Squared Error (LotArea only):\", mse_area)\n",
    "print(\"Mean Squared Error (All other columns):\", mse_all)\n"
   ]
  }
 ],
 "metadata": {
  "kernelspec": {
   "display_name": ".venv",
   "language": "python",
   "name": "python3"
  },
  "language_info": {
   "codemirror_mode": {
    "name": "ipython",
    "version": 3
   },
   "file_extension": ".py",
   "mimetype": "text/x-python",
   "name": "python",
   "nbconvert_exporter": "python",
   "pygments_lexer": "ipython3",
   "version": "3.11.1"
  }
 },
 "nbformat": 4,
 "nbformat_minor": 2
}
