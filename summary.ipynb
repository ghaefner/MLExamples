{
 "cells": [
  {
   "cell_type": "markdown",
   "metadata": {},
   "source": [
    "# House Pricing Data Set: Machine Learning Examples\n",
    "\n",
    "This is the summary of an example of various machine learnng techniques applied to the problem of house price prediction.\n",
    "\n",
    "Dataset is from kaggle: https://www.kaggle.com/datasets/bharatsahu/house-price-prediction-dataset-insurancehub-usa\n",
    "\n",
    "Guillaume Häfner"
   ]
  },
  {
   "cell_type": "code",
   "execution_count": 6,
   "metadata": {},
   "outputs": [],
   "source": [
    "import pandas as pd\n",
    "from sklearn.model_selection import train_test_split as TTS\n",
    "from sklearn.linear_model import LinearRegression as LR\n",
    "from sklearn.metrics import mean_squared_error as MSE\n",
    "\n",
    "import seaborn as sns\n",
    "\n",
    "%matplotlib inline"
   ]
  },
  {
   "cell_type": "code",
   "execution_count": 3,
   "metadata": {},
   "outputs": [
    {
     "name": "stdout",
     "output_type": "stream",
     "text": [
      "Shape of df before handling of missing data:  (1460, 81)\n",
      "Shape of df after handling of missing data:  (1451, 81)\n",
      "Index(['Id', 'MSSubClass', 'MSZoning', 'LotFrontage', 'LotArea', 'Street',\n",
      "       'Alley', 'LotShape', 'LandContour', 'Utilities', 'LotConfig',\n",
      "       'LandSlope', 'Neighborhood', 'Condition1', 'Condition2', 'BldgType',\n",
      "       'HouseStyle', 'OverallQual', 'OverallCond', 'YearBuilt', 'YearRemodAdd',\n",
      "       'RoofStyle', 'RoofMatl', 'Exterior1st', 'Exterior2nd', 'MasVnrType',\n",
      "       'MasVnrArea', 'ExterQual', 'ExterCond', 'Foundation', 'BsmtQual',\n",
      "       'BsmtCond', 'BsmtExposure', 'BsmtFinType1', 'BsmtFinSF1',\n",
      "       'BsmtFinType2', 'BsmtFinSF2', 'BsmtUnfSF', 'TotalBsmtSF', 'Heating',\n",
      "       'HeatingQC', 'CentralAir', 'Electrical', '1stFlrSF', '2ndFlrSF',\n",
      "       'LowQualFinSF', 'GrLivArea', 'BsmtFullBath', 'BsmtHalfBath', 'FullBath',\n",
      "       'HalfBath', 'BedroomAbvGr', 'KitchenAbvGr', 'KitchenQual',\n",
      "       'TotRmsAbvGrd', 'Functional', 'Fireplaces', 'FireplaceQu', 'GarageType',\n",
      "       'GarageYrBlt', 'GarageFinish', 'GarageCars', 'GarageArea', 'GarageQual',\n",
      "       'GarageCond', 'PavedDrive', 'WoodDeckSF', 'OpenPorchSF',\n",
      "       'EnclosedPorch', '3SsnPorch', 'ScreenPorch', 'PoolArea', 'PoolQC',\n",
      "       'Fence', 'MiscFeature', 'MiscVal', 'MoSold', 'YrSold', 'SaleType',\n",
      "       'SaleCondition', 'SalePrice'],\n",
      "      dtype='object')\n"
     ]
    }
   ],
   "source": [
    "# Load the data\n",
    "df = pd.read_csv(\"data/train.csv\")\n",
    "print(\"Shape of df before handling of missing data: \", df.shape)\n",
    "\n",
    "## Handling of missing values\n",
    "df_NA = (df.isna().mean() * 100)\n",
    "\n",
    "# Drop rows where missing values are less than 1%\n",
    "df.dropna(subset=df_NA[df_NA < 1].index.tolist(), inplace=True)\n",
    "\n",
    "# Impute missing values with mean for columns with missing values higher than 1% and numeric type\n",
    "for column in df_NA[df_NA >= 1].index:\n",
    "    if pd.api.types.is_numeric_dtype(df[column]):\n",
    "        df[column] = df[column].fillna(df[column].mean())\n",
    "\n",
    "print(\"Shape of df after handling of missing data: \", df.shape)\n",
    "print(df.columns)\n",
    "\n"
   ]
  },
  {
   "cell_type": "markdown",
   "metadata": {},
   "source": [
    "## Linear Regression Models\n",
    "\n",
    "In this analysis, we compare the performance of two linear regression models trained on the dataset. The goal is to predict the `SalePrice` of houses based on different sets of features.\n",
    "\n",
    "### Feature Sets\n",
    "\n",
    "1. **LotArea Only Model**:\n",
    "   - This model utilizes only the `LotArea` column as the predictor variable.\n",
    "   \n",
    "2. **All Other Columns Model**:\n",
    "   - This model uses all columns except `SalePrice` as predictor variables.\n",
    "\n",
    "### Evaluation Metric\n",
    "\n",
    "We evaluate the performance of each model using mean squared error (MSE) on the testing set. Lower MSE values indicate better performance in predicting house prices.\n"
   ]
  },
  {
   "cell_type": "code",
   "execution_count": 9,
   "metadata": {},
   "outputs": [
    {
     "name": "stdout",
     "output_type": "stream",
     "text": [
      "Mean Squared Error (LotArea only): 5074667187.426045\n",
      "Mean Squared Error (All columns): 809285788.9023495\n"
     ]
    }
   ],
   "source": [
    "# Apply one-hot encoding to categorical columns\n",
    "df = pd.get_dummies(df)\n",
    "\n",
    "\n",
    "X_area = df[['LotArea']] # Feature Set 1\n",
    "X_all = df.drop(columns=['SalePrice']) # Feature Set 2\n",
    "y = df['SalePrice']\n",
    "\n",
    "# Split data\n",
    "X_train_area, X_test_area, y_train_area, y_test_area = TTS(X_area, y, test_size=0.2, random_state=42)\n",
    "X_train_all, X_test_all, y_train_all, y_test_all = TTS(X_all, y, test_size=0.2, random_state=42)\n",
    "\n",
    "# Train model\n",
    "model_area = LR()\n",
    "model_all = LR()\n",
    "\n",
    "model_area.fit(X_train_area, y_train_area)\n",
    "model_all.fit(X_train_all, y_train_all)\n",
    "\n",
    "# Evaluate model prediction\n",
    "y_pred_area = model_area.predict(X_test_area)\n",
    "y_pred_all = model_all.predict(X_test_all)\n",
    "\n",
    "# Evaluate the models\n",
    "mse_area = MSE(y_test_area, y_pred_area)\n",
    "mse_all = MSE(y_test_all, y_pred_all)\n",
    "\n",
    "print(\"Mean Squared Error (LotArea only):\", mse_area)\n",
    "print(\"Mean Squared Error (All columns):\", mse_all)\n"
   ]
  },
  {
   "cell_type": "markdown",
   "metadata": {},
   "source": [
    "# Feature engineering\n",
    "\n",
    "Clearly, the mean squared errors (MSE) are pretty high for the linear regression model. So, let's figure out what features are most significant and try to improve the model."
   ]
  },
  {
   "cell_type": "code",
   "execution_count": 19,
   "metadata": {},
   "outputs": [
    {
     "name": "stdout",
     "output_type": "stream",
     "text": [
      "The Significant features are:\n",
      "OverallQual (r = 0.79)\n",
      "GrLivArea (r = 0.71)\n",
      "GarageCars (r = 0.64)\n",
      "GarageArea (r = 0.62)\n",
      "TotalBsmtSF (r = 0.61)\n",
      "1stFlrSF (r = 0.61)\n",
      "FullBath (r = 0.56)\n",
      "BsmtQual_Ex (r = 0.55)\n",
      "TotRmsAbvGrd (r = 0.54)\n",
      "YearBuilt (r = 0.52)\n",
      "YearRemodAdd (r = 0.51)\n",
      "KitchenQual_Ex (r = 0.50)\n",
      "KitchenQual_TA (r = -0.52)\n",
      "ExterQual_TA (r = -0.59)\n"
     ]
    }
   ],
   "source": [
    "COR_THRESHOLD = 0.5\n",
    "\n",
    "feature_correlation = df.corr()['SalePrice'].sort_values(ascending=False)\n",
    "significant_features = feature_correlation[(abs(feature_correlation) > COR_THRESHOLD) & (feature_correlation.index != 'SalePrice')].index.tolist()\n",
    "\n",
    "print(\"The Significant features are:\")\n",
    "for feature in significant_features:\n",
    "    print(f\"{feature} (r = {feature_correlation[feature]:.2f})\")"
   ]
  },
  {
   "cell_type": "code",
   "execution_count": 27,
   "metadata": {},
   "outputs": [
    {
     "name": "stdout",
     "output_type": "stream",
     "text": [
      "Mean Squared Error (LotArea only):, 5074667187 (100.0%)\n",
      "Mean Squared Error (All columns):, 809285789 (15.9%)\n",
      "Mean Squared Error (Significant columns only):, 931562980 (18.4%)\n"
     ]
    }
   ],
   "source": [
    "X_redux = df[significant_features]\n",
    "\n",
    "X_train_redux, X_test_redux, y_train_redux, y_test_redux = TTS(X_redux, y, test_size=0.2, random_state=42)\n",
    "\n",
    "model_redux = LR()\n",
    "model_redux.fit(X_train_redux, y_train_redux)\n",
    "y_pred_redux = model_redux.predict(X_test_redux)\n",
    "\n",
    "# Evaluate the models\n",
    "mse_redux = MSE(y_test_redux, y_pred_redux)\n",
    "\n",
    "mse_max = max([mse_all, mse_area, mse_redux])\n",
    "\n",
    "print(f\"Mean Squared Error (LotArea only):, {mse_area:.0f} ({100*mse_area/mse_max:.1f}%)\")\n",
    "print(f\"Mean Squared Error (All columns):, {mse_all:.0f} ({100*mse_all/mse_max:.1f}%)\")\n",
    "print(f\"Mean Squared Error (Significant columns only):, {mse_redux:.0f} ({100*mse_redux/mse_max:.1f}%)\")"
   ]
  }
 ],
 "metadata": {
  "kernelspec": {
   "display_name": ".venv",
   "language": "python",
   "name": "python3"
  },
  "language_info": {
   "codemirror_mode": {
    "name": "ipython",
    "version": 3
   },
   "file_extension": ".py",
   "mimetype": "text/x-python",
   "name": "python",
   "nbconvert_exporter": "python",
   "pygments_lexer": "ipython3",
   "version": "3.11.1"
  }
 },
 "nbformat": 4,
 "nbformat_minor": 2
}
