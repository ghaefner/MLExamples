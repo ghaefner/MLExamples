{
 "cells": [
  {
   "cell_type": "markdown",
   "metadata": {},
   "source": [
    "# House Pricing Data Set: Machine Learning Examples\n",
    "\n",
    "This is the summary of an example of various machine learnng techniques applied to the problem of house price prediction.\n",
    "\n",
    "Dataset is from kaggle: https://www.kaggle.com/datasets/bharatsahu/house-price-prediction-dataset-insurancehub-usa\n",
    "\n",
    "Guillaume Häfner"
   ]
  },
  {
   "cell_type": "code",
   "execution_count": 1,
   "metadata": {},
   "outputs": [],
   "source": [
    "import pandas as pd\n",
    "from sklearn.linear_model import LinearRegression as LR"
   ]
  },
  {
   "cell_type": "code",
   "execution_count": 10,
   "metadata": {},
   "outputs": [
    {
     "name": "stdout",
     "output_type": "stream",
     "text": [
      "Shape of df before handling of missing data:  (1459, 80)\n"
     ]
    },
    {
     "ename": "NameError",
     "evalue": "name 'na_percentadf_NAge' is not defined",
     "output_type": "error",
     "traceback": [
      "\u001b[1;31m---------------------------------------------------------------------------\u001b[0m",
      "\u001b[1;31mNameError\u001b[0m                                 Traceback (most recent call last)",
      "Cell \u001b[1;32mIn[10], line 12\u001b[0m\n\u001b[0;32m      9\u001b[0m df\u001b[38;5;241m.\u001b[39mdropna(subset\u001b[38;5;241m=\u001b[39mdf_NA[df_NA \u001b[38;5;241m<\u001b[39m \u001b[38;5;241m1\u001b[39m]\u001b[38;5;241m.\u001b[39mindex\u001b[38;5;241m.\u001b[39mtolist(), inplace\u001b[38;5;241m=\u001b[39m\u001b[38;5;28;01mTrue\u001b[39;00m)\n\u001b[0;32m     11\u001b[0m \u001b[38;5;66;03m# Impute missing values with mean for columns with missing values higher than 1% and numeric type\u001b[39;00m\n\u001b[1;32m---> 12\u001b[0m \u001b[38;5;28;01mfor\u001b[39;00m column \u001b[38;5;129;01min\u001b[39;00m df_NA[\u001b[43mna_percentadf_NAge\u001b[49m \u001b[38;5;241m>\u001b[39m\u001b[38;5;241m=\u001b[39m \u001b[38;5;241m1\u001b[39m]\u001b[38;5;241m.\u001b[39mindex:\n\u001b[0;32m     13\u001b[0m     \u001b[38;5;28;01mif\u001b[39;00m pd\u001b[38;5;241m.\u001b[39mapi\u001b[38;5;241m.\u001b[39mtypes\u001b[38;5;241m.\u001b[39mis_numeric_dtype(df[column]):\n\u001b[0;32m     14\u001b[0m         df[column] \u001b[38;5;241m=\u001b[39m df[column]\u001b[38;5;241m.\u001b[39mfillna(df[column]\u001b[38;5;241m.\u001b[39mmean())\n",
      "\u001b[1;31mNameError\u001b[0m: name 'na_percentadf_NAge' is not defined"
     ]
    }
   ],
   "source": [
    "# Load the data\n",
    "df = pd.read_csv(\"data/test.csv\")\n",
    "print(\"Shape of df before handling of missing data: \", df.shape)\n",
    "\n",
    "## Handling of missing values\n",
    "df_NA = (df.isna().mean() * 100)\n",
    "\n",
    "# Drop rows where missing values are less than 1%\n",
    "df.dropna(subset=df_NA[df_NA < 1].index.tolist(), inplace=True)\n",
    "\n",
    "# Impute missing values with mean for columns with missing values higher than 1% and numeric type\n",
    "for column in df_NA[df_NA >= 1].index:\n",
    "    if pd.api.types.is_numeric_dtype(df[column]):\n",
    "        df[column] = df[column].fillna(df[column].mean())\n",
    "\n",
    "print(\"Shape of df after handling of missing data: \", df.shape)\n",
    "\n"
   ]
  },
  {
   "cell_type": "markdown",
   "metadata": {},
   "source": [
    "We will start with the simple linear regression. Linear regression is used "
   ]
  },
  {
   "cell_type": "code",
   "execution_count": null,
   "metadata": {},
   "outputs": [],
   "source": []
  }
 ],
 "metadata": {
  "kernelspec": {
   "display_name": ".venv",
   "language": "python",
   "name": "python3"
  },
  "language_info": {
   "codemirror_mode": {
    "name": "ipython",
    "version": 3
   },
   "file_extension": ".py",
   "mimetype": "text/x-python",
   "name": "python",
   "nbconvert_exporter": "python",
   "pygments_lexer": "ipython3",
   "version": "3.11.1"
  }
 },
 "nbformat": 4,
 "nbformat_minor": 2
}
